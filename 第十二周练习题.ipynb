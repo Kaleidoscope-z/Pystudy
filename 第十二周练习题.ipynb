{
 "cells": [
  {
   "cell_type": "markdown",
   "metadata": {},
   "source": [
    "# 第十二周练习. 变量和简单数据类型"
   ]
  },
  {
   "cell_type": "markdown",
   "metadata": {},
   "source": [
    "### 1. 变量及判断变量类型\n",
    "以下是三个变量分别代表年月日，请大家完成输出：\n",
    "“今年是2020年，今天的日期是2020/11/13”\n",
    "这句话，并判断结果的数据类型。"
   ]
  },
  {
   "cell_type": "code",
   "execution_count": null,
   "metadata": {},
   "outputs": [],
   "source": [
    "#年\n",
    "year = 2020\n",
    "#月\n",
    "month = 11\n",
    "#日\n",
    "day = 13\n",
    "\n",
    "\n",
    "\"\"\"\n",
    "请在下方完成对应的输出\n",
    "\"\"\""
   ]
  },
  {
   "cell_type": "markdown",
   "metadata": {},
   "source": [
    "### 2. 算数运算符"
   ]
  },
  {
   "cell_type": "code",
   "execution_count": null,
   "metadata": {},
   "outputs": [],
   "source": [
    "a = 18\n",
    "b = 80\n",
    "c = 83\n",
    "\"\"\"\n",
    "a、b分别为直角边，c为斜边，请验证以这三条边围成的三角形是否是直角三角形，要求返回值为boolean类型\n",
    "\"\"\"\n",
    "print()"
   ]
  },
  {
   "cell_type": "markdown",
   "metadata": {},
   "source": [
    "美好的周六即将到来，但是很不幸，我们被抓去练习python。老师极其BT，一共给我们宿舍6个人布置了134套习题，所以我们制定了一个战术... 我们决定均分题目共享答案，请计算下我们每个人需要分多少题，并且如果不能均分，还剩多少道题没人认领。"
   ]
  },
  {
   "cell_type": "code",
   "execution_count": null,
   "metadata": {},
   "outputs": [],
   "source": []
  },
  {
   "cell_type": "markdown",
   "metadata": {},
   "source": [
    "### 3. 多变量赋值"
   ]
  },
  {
   "cell_type": "markdown",
   "metadata": {},
   "source": [
    "英雄联盟S11马上已经开始，uzi和white打完定级赛之后发现同时被定到了铂金段位。请用一行代码描述出上面的一句话。"
   ]
  },
  {
   "cell_type": "code",
   "execution_count": null,
   "metadata": {},
   "outputs": [],
   "source": [
    "#例子\n",
    "uzi,faker = \"铂金\",\"铂金\" #python中多变量赋值\n",
    "print(uzi)\n",
    "print(faker)"
   ]
  },
  {
   "cell_type": "markdown",
   "metadata": {},
   "source": [
    "但是，经过七天的熬夜苦战，white已经打到了王者，uzi缺因匹配的队友太坑一直处于大师段位。请用一行代码描述出上面的一句话。"
   ]
  },
  {
   "cell_type": "code",
   "execution_count": null,
   "metadata": {},
   "outputs": [],
   "source": []
  },
  {
   "cell_type": "markdown",
   "metadata": {},
   "source": [
    "最终，white由于沉迷直播，并答应uzi如果uzi可以打到国服第一，white将归队冲击世界赛冠军。所以，又过了7天，uzi成功打到王者段位，white则掉到了大师。请用一行代码描述出上面的一句话。"
   ]
  },
  {
   "cell_type": "code",
   "execution_count": null,
   "metadata": {},
   "outputs": [],
   "source": []
  },
  {
   "cell_type": "markdown",
   "metadata": {},
   "source": [
    "### 4. 字符串操作"
   ]
  },
  {
   "cell_type": "markdown",
   "metadata": {},
   "source": [
    "阿迪的广告语：\"impossible is nothing\",请对该广告语进行以下操作："
   ]
  },
  {
   "cell_type": "code",
   "execution_count": null,
   "metadata": {},
   "outputs": [],
   "source": [
    "# 1. 现在要用这个广告语做横幅，要求把所有字母都变为大写\n",
    "advertise = \"impossible is nothing\"\n",
    "\n",
    "\"\"\"\n",
    "请在下方完成对应输出\n",
    "\"\"\"\n"
   ]
  },
  {
   "cell_type": "code",
   "execution_count": null,
   "metadata": {},
   "outputs": [],
   "source": [
    "# 2. 现在我们要把这句话用作文章标题，要求每个单词第一个字母转换为大写，其余的小写\n",
    "\n",
    "\"\"\"\n",
    "请在下方完成对应的输出\n",
    "\"\"\""
   ]
  },
  {
   "cell_type": "code",
   "execution_count": null,
   "metadata": {},
   "outputs": [],
   "source": [
    "# 3. 现在我们要把这句话用作文章自然段中的一句话，要求第一个单词首字母大写，其余都小写\n",
    "\n",
    "\"\"\"\n",
    "请在下方完成对应的输出\n",
    "\"\"\""
   ]
  },
  {
   "cell_type": "markdown",
   "metadata": {},
   "source": [
    "#### 字符串切片练习"
   ]
  },
  {
   "cell_type": "code",
   "execution_count": null,
   "metadata": {},
   "outputs": [],
   "source": [
    "# 有如下字符串代表10位同学的性别，现请对该字符串进行操作。\n",
    "str = \"男女男女男女男女男女\"\n",
    "\n",
    "\"\"\"\n",
    "1. 输出前6位同学的性别\n",
    "\"\"\""
   ]
  },
  {
   "cell_type": "code",
   "execution_count": null,
   "metadata": {},
   "outputs": [],
   "source": [
    "\"\"\"\n",
    "2. 提取处于所有男生\n",
    "\"\"\""
   ]
  },
  {
   "cell_type": "code",
   "execution_count": null,
   "metadata": {},
   "outputs": [],
   "source": [
    "\"\"\"\n",
    "3. 提取处于所有女生\n",
    "\"\"\""
   ]
  },
  {
   "cell_type": "code",
   "execution_count": null,
   "metadata": {},
   "outputs": [],
   "source": [
    "\"\"\"\n",
    "4. 将该字符串反转输出\n",
    "\"\"\""
   ]
  }
 ],
 "metadata": {
  "kernelspec": {
   "display_name": "Python 3",
   "language": "python",
   "name": "python3"
  },
  "language_info": {
   "codemirror_mode": {
    "name": "ipython",
    "version": 3
   },
   "file_extension": ".py",
   "mimetype": "text/x-python",
   "name": "python",
   "nbconvert_exporter": "python",
   "pygments_lexer": "ipython3",
   "version": "3.7.3"
  }
 },
 "nbformat": 4,
 "nbformat_minor": 2
}
